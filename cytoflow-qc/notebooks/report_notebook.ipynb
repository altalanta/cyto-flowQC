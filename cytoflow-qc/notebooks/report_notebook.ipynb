{
 "cells": [
  {
   "cell_type": "markdown",
   "metadata": {},
   "source": [
    "# CytoFlow-QC Report Notebook",
    "",
    "This parameterised notebook can be executed via nbconvert to regenerate the HTML report."
   ]
  },
  {
   "cell_type": "code",
   "execution_count": null,
   "metadata": {
    "tags": [
     "parameters"
    ]
   },
   "outputs": [],
   "source": [
    "artifacts_dir = globals().get('artifacts_dir', 'results')",
    "template_path = globals().get('template_path', 'configs/report_template.html.j2')",
    "output_path = globals().get('output_path', 'results/report.html')"
   ]
  },
  {
   "cell_type": "code",
   "execution_count": null,
   "metadata": {},
   "outputs": [],
   "source": [
    "from pathlib import Path",
    "import json",
    "import pandas as pd",
    "",
    "summary_paths = {",
    "    'qc': Path(artifacts_dir) / 'qc' / 'summary.csv',",
    "    'gating': Path(artifacts_dir) / 'gate' / 'summary.csv',",
    "    'drift': Path(artifacts_dir) / 'drift' / 'tests.csv',",
    "    'stats': Path(artifacts_dir) / 'stats' / 'effect_sizes.csv',",
    "}",
    "",
    "display({key: pd.read_csv(path) for key, path in summary_paths.items() if path.exists()})",
    "print(f'Report artifacts directory: {artifacts_dir}')"
   ]
  }
 ],
 "metadata": {
  "kernelspec": {
   "display_name": "Python 3",
   "language": "python",
   "name": "python3"
  },
  "language_info": {
   "codemirror_mode": {
    "name": "ipython",
    "version": 3
   },
   "file_extension": ".py",
   "mimetype": "text/x-python",
   "name": "python",
   "nbconvert_exporter": "python",
   "pygments_lexer": "ipython3",
   "version": "3.10"
  }
 },
 "nbformat": 4,
 "nbformat_minor": 5
}
